{
  "nbformat": 4,
  "nbformat_minor": 0,
  "metadata": {
    "colab": {
      "name": "resize_data.ipynb",
      "provenance": [],
      "collapsed_sections": []
    },
    "kernelspec": {
      "name": "python3",
      "display_name": "Python 3"
    },
    "language_info": {
      "name": "python"
    }
  },
  "cells": [
    {
      "cell_type": "markdown",
      "metadata": {
        "id": "p_H3dUVMGiZZ"
      },
      "source": [
        "# Import"
      ]
    },
    {
      "cell_type": "code",
      "metadata": {
        "id": "hdh9OX6kGhYY"
      },
      "source": [
        "from os import listdir\n",
        "from os.path import isfile, join\n",
        "import glob\n",
        "import os\n",
        "import time\n",
        "import cv2"
      ],
      "execution_count": 1,
      "outputs": []
    },
    {
      "cell_type": "code",
      "metadata": {
        "colab": {
          "base_uri": "https://localhost:8080/"
        },
        "id": "n3nqNc1qF4ZY",
        "outputId": "1063f1a7-60bc-4de6-8471-e9987aebaa58"
      },
      "source": [
        "from google.colab import drive\n",
        "drive.mount('/content/drive')"
      ],
      "execution_count": 2,
      "outputs": [
        {
          "output_type": "stream",
          "text": [
            "Mounted at /content/drive\n"
          ],
          "name": "stdout"
        }
      ]
    },
    {
      "cell_type": "code",
      "metadata": {
        "id": "TzJAKrveEgLQ"
      },
      "source": [
        "def resize_data(mypath, path_save, target_size):\n",
        "    start_time = time.time()\n",
        "    #training_images = []\n",
        "    #training_labels = []\n",
        "    os.mkdir(os.path.join(path_save))\n",
        "\n",
        "    onlyfiles = [f for f in listdir(mypath) ]\n",
        "\n",
        "    # Loop over the training folder \n",
        "    for class_ in onlyfiles:\n",
        "      \n",
        "      print('Loading directory {}'.format(class_))\n",
        "      \n",
        "      dir_save = os.path.join(path_save, class_)\n",
        "      os.mkdir(dir_save)\n",
        "\n",
        "      dir_class = os.path.join(mypath, class_)\n",
        "      onlyfiles_class = [f for f in listdir(dir_class) ]\n",
        "      n = 0\n",
        "      for files_class in onlyfiles_class:\n",
        "        image = cv2.imread(os.path.join(dir_class, files_class))\n",
        "        image_resized = cv2.resize(image, target_size)\n",
        "        cv2.imwrite(os.path.join(dir_save, files_class), image_resized)\n",
        "        if n%500 ==0:\n",
        "          print('Saving directory {}'.format(files_class))\n",
        "        n = n+1\n",
        "\n",
        "      # datagen = ImageDataGenerator()\n",
        "      # print(os.path.join(mypath, class_))\n",
        "      # generator = datagen.flow_from_directory(os.path.join(mypath), target_size = target_size, classes = [class_],\n",
        "      #                                 save_to_dir=dir_save,     #this is where we figure out where to save\n",
        "      #                                 save_format='jpg')\n",
        "      # datagen.fit(generator)\n",
        "      \n",
        "      print(\"Data Loaded in {} Min\".format((time.time() - start_time)/60))\n"
      ],
      "execution_count": 3,
      "outputs": []
    },
    {
      "cell_type": "code",
      "metadata": {
        "id": "nYkTi3pJMC0w"
      },
      "source": [
        "mypath = '/content/drive/MyDrive/trabajoSAC/imagenes/train'\n",
        "path_save = '/content/drive/MyDrive/trabajoSAC/imagenes/R_train'\n",
        "target_size = (100,100)\n"
      ],
      "execution_count": 4,
      "outputs": []
    },
    {
      "cell_type": "code",
      "metadata": {
        "colab": {
          "base_uri": "https://localhost:8080/"
        },
        "id": "scsCFHRSI6Kj",
        "outputId": "e8043f9f-1db0-4630-8865-1a18de65bb89"
      },
      "source": [
        "\n",
        "resize_data(mypath, path_save, target_size)\n"
      ],
      "execution_count": 5,
      "outputs": [
        {
          "output_type": "stream",
          "text": [
            "Loading directory c0\n",
            "Saving directory img_772.jpg\n",
            "Saving directory img_80773.jpg\n",
            "Saving directory img_33714.jpg\n",
            "Saving directory img_45373.jpg\n",
            "Saving directory img_16714.jpg\n",
            "Data Loaded in 8.60186715523402 Min\n",
            "Loading directory c9\n",
            "Saving directory img_50540.jpg\n",
            "Saving directory img_82682.jpg\n",
            "Saving directory img_13997.jpg\n",
            "Saving directory img_31757.jpg\n",
            "Saving directory img_20278.jpg\n",
            "Data Loaded in 16.619010198116303 Min\n",
            "Loading directory c1\n",
            "Saving directory img_65711.jpg\n",
            "Saving directory img_73507.jpg\n",
            "Saving directory img_18674.jpg\n",
            "Saving directory img_27560.jpg\n",
            "Saving directory img_27534.jpg\n",
            "Data Loaded in 24.12501707871755 Min\n",
            "Loading directory c5\n",
            "Saving directory img_61895.jpg\n",
            "Saving directory img_99642.jpg\n",
            "Saving directory img_33132.jpg\n",
            "Saving directory img_56950.jpg\n",
            "Saving directory img_101544.jpg\n",
            "Data Loaded in 32.984581363201144 Min\n",
            "Loading directory c6\n",
            "Saving directory img_65694.jpg\n",
            "Saving directory img_78779.jpg\n",
            "Saving directory img_1602.jpg\n",
            "Saving directory img_29194.jpg\n",
            "Saving directory img_101075.jpg\n",
            "Data Loaded in 42.38947833776474 Min\n",
            "Loading directory c2\n",
            "Saving directory img_5220.jpg\n",
            "Saving directory img_63840.jpg\n",
            "Saving directory img_3348.jpg\n",
            "Saving directory img_39578.jpg\n",
            "Saving directory img_13601.jpg\n",
            "Data Loaded in 51.2697666366895 Min\n",
            "Loading directory c7\n",
            "Saving directory img_52797.jpg\n",
            "Saving directory img_71168.jpg\n",
            "Saving directory img_16985.jpg\n",
            "Saving directory img_33895.jpg\n",
            "Saving directory img_13259.jpg\n",
            "Data Loaded in 59.08579253753026 Min\n",
            "Loading directory c8\n",
            "Saving directory img_59810.jpg\n",
            "Saving directory img_8658.jpg\n",
            "Saving directory img_17661.jpg\n",
            "Saving directory img_40250.jpg\n",
            "Data Loaded in 66.58230119546255 Min\n",
            "Loading directory c3\n",
            "Saving directory img_69503.jpg\n",
            "Saving directory img_93903.jpg\n",
            "Saving directory img_30212.jpg\n",
            "Saving directory img_47421.jpg\n",
            "Saving directory img_100749.jpg\n",
            "Data Loaded in 75.98115768829982 Min\n",
            "Loading directory c4\n",
            "Saving directory img_46079.jpg\n",
            "Saving directory img_85780.jpg\n",
            "Saving directory img_101507.jpg\n",
            "Saving directory img_28927.jpg\n",
            "Saving directory img_22904.jpg\n",
            "Data Loaded in 85.40879513025284 Min\n"
          ],
          "name": "stdout"
        }
      ]
    },
    {
      "cell_type": "code",
      "metadata": {
        "id": "EvtFz5ssJKKQ"
      },
      "source": [
        ""
      ],
      "execution_count": null,
      "outputs": []
    }
  ]
}