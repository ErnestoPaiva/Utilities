{
  "nbformat": 4,
  "nbformat_minor": 0,
  "metadata": {
    "colab": {
      "name": "figure.ipynb",
      "provenance": []
    },
    "kernelspec": {
      "name": "python3",
      "display_name": "Python 3"
    },
    "language_info": {
      "name": "python"
    }
  },
  "cells": [
    {
      "cell_type": "code",
      "metadata": {
        "id": "PZljDA3NTNIJ"
      },
      "source": [
        "def figure(History, legend):\n",
        "  ####################### PLOT TRAINING VS VALIDATION ######################\n",
        "  ########## Accuracy ###########\n",
        "  acc = History.history['acc']\n",
        "  val_acc = History.history['val_acc']\n",
        "  loss = History.history['loss']\n",
        "  val_loss = History.history['val_loss']\n",
        "\n",
        "  plt.plot(acc)\n",
        "  plt.plot(val_acc)\n",
        "  plt.title('model accuracy')\n",
        "  plt.ylabel('accuracy')\n",
        "  plt.xlabel('epoch')\n",
        "  plt.legend(legend, loc='upper left')\n",
        "  plt.grid()\n",
        "  plt.show()\n",
        "\n",
        "  ########## Loss ###########\n",
        "  plt.plot(loss)\n",
        "  plt.plot(val_loss)\n",
        "  plt.title('model loss')\n",
        "  plt.ylabel('loss')\n",
        "  plt.xlabel('epoch')\n",
        "  try:\n",
        "    loss_no_reg = History.history['categorical_crossentropy']\n",
        "    val_loss_no_reg = History.history['val_categorical_crossentropy']\n",
        "    plt.plot(loss_no_reg)\n",
        "    plt.plot(val_loss_no_reg)\n",
        "    plt.legend(legend + [legend[0]+' sin reg', legend[1]+' sin reg'], loc='upper left')\n",
        "  except:\n",
        "    plt.legend(legend, loc='upper left')\n",
        "\n",
        "  plt.grid()\n",
        "  plt.show()"
      ],
      "execution_count": null,
      "outputs": []
    }
  ]
}